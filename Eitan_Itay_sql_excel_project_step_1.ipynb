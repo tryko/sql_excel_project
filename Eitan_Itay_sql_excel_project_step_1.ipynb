{
 "cells": [
  {
   "cell_type": "markdown",
   "source": [
    "In this project you are trying out for an online marketplace company. The evaluation cover 3 important aspects of the daily job there that you need to know in order to get the position. \r\n",
    "\r\n",
    "The name of the database you will be working with is: data-analyst-web-store\r\n",
    "\r\n",
    "\r\n",
    "\r\n",
    "Step 1:\r\n",
    "\r\n",
    "Queries to know the data:\r\n",
    "\r\n",
    "1. How many customers are there and what is the gender ratio?\r\n",
    "\r\n",
    "2. How many items are there? Do you see any phenomena? (notice that item_id can be different)\r\n",
    "\r\n",
    "3. What is the total amount of orders?\r\n",
    "\r\n",
    "4. How many users were registered in July – December 2019 on the YouTube campaign?\r\n",
    "\r\n",
    "5. How many users from the US bought the book Rich Dad? What is their share out of everyone who bought this book? And what is their share out of all US sales?\r\n",
    "\r\n",
    "6. What is the most ordered item by quantity and what is the item with the highest total revenue? \r\n",
    "\r\n",
    "7. What is the share of total revenue, orders and users registration for each country, And how this ratio changes from 2019 to 2020 (show results for both years)\r\n",
    "\r\n",
    "8. What is the total of shipments for each category in the data?\r\n",
    "\r\n",
    "9. What is the average of the first order of each customer?\r\n",
    "\r\n",
    "10. Does the membership split equally between gender? Do we get the same result per different countries in the data? Check only for English speaking countries (US, CA and EN)\r\n",
    "\r\n",
    "11. What is the most successful campaign in terms of registrations? And what is the most successful campaign in terms of total revenue brought in?\r\n"
   ],
   "metadata": {}
  },
  {
   "cell_type": "code",
   "execution_count": 2,
   "source": [
    "import pandas as pd\r\n",
    "from sqlalchemy import create_engine\r\n",
    "import psycopg2"
   ],
   "outputs": [],
   "metadata": {}
  },
  {
   "cell_type": "code",
   "execution_count": 3,
   "source": [
    "db_config = {'user': 'practicum_student',         # username             \r\n",
    "                      'pwd': 's65BlTKV3faNIGhmvJVzOqhs', # password             \r\n",
    "                      'host': 'rc1b-wcoijxj3yxfsf3fs.mdb.yandexcloud.net',       #host URL      \r\n",
    "                      'port': 6432,              # connection port             \r\n",
    "                      'db': 'data-analyst-web-store'}          # the name of the database\r\n",
    "\r\n",
    "connection_string = 'postgresql://{}:{}@{}:{}/{}'.format(db_config['user'],\r\n",
    "                                                                     db_config['pwd'],\r\n",
    "                                                                       db_config['host'],\r\n",
    "                                                                       db_config['port'],\r\n",
    "                                                                       db_config['db'])\r\n",
    "\r\n",
    "engine = create_engine(connection_string, connect_args={'sslmode':'require'})"
   ],
   "outputs": [],
   "metadata": {}
  },
  {
   "cell_type": "code",
   "execution_count": 4,
   "source": [
    "def queryResult(q):\r\n",
    "    return pd.io.sql.read_sql(q, con = engine)"
   ],
   "outputs": [],
   "metadata": {}
  },
  {
   "cell_type": "code",
   "execution_count": 39,
   "source": [
    "query1 = '''\r\n",
    "            select *\r\n",
    "            FROM customer_info\r\n",
    "         '''\r\n",
    "display(queryResult(query1))"
   ],
   "outputs": [
    {
     "output_type": "display_data",
     "data": {
      "text/plain": [
       "     customer_id  country_id membership  gender\n",
       "0              1           5         no  Female\n",
       "1              2          10        yes    Male\n",
       "2              3           5        yes  Female\n",
       "3              4           6         no    Male\n",
       "4              5           7         no    Male\n",
       "..           ...         ...        ...     ...\n",
       "475           82           9        yes    Male\n",
       "476           96           5        yes    Male\n",
       "477          249           1        yes    Male\n",
       "478          339           7        yes    Male\n",
       "479          354           2         no  Female\n",
       "\n",
       "[480 rows x 4 columns]"
      ],
      "text/html": [
       "<div>\n",
       "<style scoped>\n",
       "    .dataframe tbody tr th:only-of-type {\n",
       "        vertical-align: middle;\n",
       "    }\n",
       "\n",
       "    .dataframe tbody tr th {\n",
       "        vertical-align: top;\n",
       "    }\n",
       "\n",
       "    .dataframe thead th {\n",
       "        text-align: right;\n",
       "    }\n",
       "</style>\n",
       "<table border=\"1\" class=\"dataframe\">\n",
       "  <thead>\n",
       "    <tr style=\"text-align: right;\">\n",
       "      <th></th>\n",
       "      <th>customer_id</th>\n",
       "      <th>country_id</th>\n",
       "      <th>membership</th>\n",
       "      <th>gender</th>\n",
       "    </tr>\n",
       "  </thead>\n",
       "  <tbody>\n",
       "    <tr>\n",
       "      <th>0</th>\n",
       "      <td>1</td>\n",
       "      <td>5</td>\n",
       "      <td>no</td>\n",
       "      <td>Female</td>\n",
       "    </tr>\n",
       "    <tr>\n",
       "      <th>1</th>\n",
       "      <td>2</td>\n",
       "      <td>10</td>\n",
       "      <td>yes</td>\n",
       "      <td>Male</td>\n",
       "    </tr>\n",
       "    <tr>\n",
       "      <th>2</th>\n",
       "      <td>3</td>\n",
       "      <td>5</td>\n",
       "      <td>yes</td>\n",
       "      <td>Female</td>\n",
       "    </tr>\n",
       "    <tr>\n",
       "      <th>3</th>\n",
       "      <td>4</td>\n",
       "      <td>6</td>\n",
       "      <td>no</td>\n",
       "      <td>Male</td>\n",
       "    </tr>\n",
       "    <tr>\n",
       "      <th>4</th>\n",
       "      <td>5</td>\n",
       "      <td>7</td>\n",
       "      <td>no</td>\n",
       "      <td>Male</td>\n",
       "    </tr>\n",
       "    <tr>\n",
       "      <th>...</th>\n",
       "      <td>...</td>\n",
       "      <td>...</td>\n",
       "      <td>...</td>\n",
       "      <td>...</td>\n",
       "    </tr>\n",
       "    <tr>\n",
       "      <th>475</th>\n",
       "      <td>82</td>\n",
       "      <td>9</td>\n",
       "      <td>yes</td>\n",
       "      <td>Male</td>\n",
       "    </tr>\n",
       "    <tr>\n",
       "      <th>476</th>\n",
       "      <td>96</td>\n",
       "      <td>5</td>\n",
       "      <td>yes</td>\n",
       "      <td>Male</td>\n",
       "    </tr>\n",
       "    <tr>\n",
       "      <th>477</th>\n",
       "      <td>249</td>\n",
       "      <td>1</td>\n",
       "      <td>yes</td>\n",
       "      <td>Male</td>\n",
       "    </tr>\n",
       "    <tr>\n",
       "      <th>478</th>\n",
       "      <td>339</td>\n",
       "      <td>7</td>\n",
       "      <td>yes</td>\n",
       "      <td>Male</td>\n",
       "    </tr>\n",
       "    <tr>\n",
       "      <th>479</th>\n",
       "      <td>354</td>\n",
       "      <td>2</td>\n",
       "      <td>no</td>\n",
       "      <td>Female</td>\n",
       "    </tr>\n",
       "  </tbody>\n",
       "</table>\n",
       "<p>480 rows × 4 columns</p>\n",
       "</div>"
      ]
     },
     "metadata": {}
    }
   ],
   "metadata": {}
  },
  {
   "cell_type": "markdown",
   "source": [
    "\r\n",
    "\r\n",
    "1. How many customers are there and what is the gender ratio?\r\n",
    "\r\n"
   ],
   "metadata": {}
  },
  {
   "cell_type": "code",
   "execution_count": 46,
   "source": [
    "\r\n",
    "query1 = '''\r\n",
    "            select\r\n",
    "                sum(case when \"gender\" = 'Male' then 1 else 0 end)/count(*)::float as male_ratio,\r\n",
    "                sum(case when \"gender\" = 'Female' then 1 else 0 end)/count(*)::float as female_ratio,\r\n",
    "                sum(customer_id) as total\r\n",
    "            from \r\n",
    "                customer_info\r\n",
    "         '''\r\n",
    "display(queryResult(query1))"
   ],
   "outputs": [
    {
     "output_type": "display_data",
     "data": {
      "text/plain": [
       "   male_ratio  female_ratio   total\n",
       "0    0.477083      0.522917  117859"
      ],
      "text/html": [
       "<div>\n",
       "<style scoped>\n",
       "    .dataframe tbody tr th:only-of-type {\n",
       "        vertical-align: middle;\n",
       "    }\n",
       "\n",
       "    .dataframe tbody tr th {\n",
       "        vertical-align: top;\n",
       "    }\n",
       "\n",
       "    .dataframe thead th {\n",
       "        text-align: right;\n",
       "    }\n",
       "</style>\n",
       "<table border=\"1\" class=\"dataframe\">\n",
       "  <thead>\n",
       "    <tr style=\"text-align: right;\">\n",
       "      <th></th>\n",
       "      <th>male_ratio</th>\n",
       "      <th>female_ratio</th>\n",
       "      <th>total</th>\n",
       "    </tr>\n",
       "  </thead>\n",
       "  <tbody>\n",
       "    <tr>\n",
       "      <th>0</th>\n",
       "      <td>0.477083</td>\n",
       "      <td>0.522917</td>\n",
       "      <td>117859</td>\n",
       "    </tr>\n",
       "  </tbody>\n",
       "</table>\n",
       "</div>"
      ]
     },
     "metadata": {}
    }
   ],
   "metadata": {}
  },
  {
   "cell_type": "markdown",
   "source": [
    "2. How many items are there? Do you see any phenomena? (notice that item_id can be different)\r\n",
    "\r\n"
   ],
   "metadata": {}
  },
  {
   "cell_type": "code",
   "execution_count": null,
   "source": [
    "query1 = '''\r\n",
    "            \r\n",
    "         '''\r\n",
    "display(queryResult(query1))"
   ],
   "outputs": [],
   "metadata": {}
  },
  {
   "cell_type": "markdown",
   "source": [
    "3. What is the total amount of orders?"
   ],
   "metadata": {}
  },
  {
   "cell_type": "code",
   "execution_count": null,
   "source": [
    "query1 = '''\r\n",
    "            \r\n",
    "         '''\r\n",
    "display(queryResult(query1))"
   ],
   "outputs": [],
   "metadata": {}
  },
  {
   "cell_type": "markdown",
   "source": [
    "4. How many users were registered in July – December 2019 on the YouTube campaign?"
   ],
   "metadata": {}
  },
  {
   "cell_type": "code",
   "execution_count": null,
   "source": [
    "query1 = '''\r\n",
    "            \r\n",
    "         '''\r\n",
    "display(queryResult(query1))"
   ],
   "outputs": [],
   "metadata": {}
  },
  {
   "cell_type": "markdown",
   "source": [
    "5. How many users from the US bought the book Rich Dad? What is their share out of everyone who bought this book? And what is their share out of all US sales?"
   ],
   "metadata": {}
  },
  {
   "cell_type": "code",
   "execution_count": null,
   "source": [
    "query1 = '''\r\n",
    "            \r\n",
    "         '''\r\n",
    "display(queryResult(query1))"
   ],
   "outputs": [],
   "metadata": {}
  },
  {
   "cell_type": "markdown",
   "source": [
    "6. What is the most ordered item by quantity and what is the item with the highest total revenue? "
   ],
   "metadata": {}
  },
  {
   "cell_type": "code",
   "execution_count": null,
   "source": [
    "query1 = '''\r\n",
    "            \r\n",
    "         '''\r\n",
    "display(queryResult(query1))"
   ],
   "outputs": [],
   "metadata": {}
  },
  {
   "cell_type": "markdown",
   "source": [
    "\r\n",
    "7. What is the share of total revenue, orders and users registration for each country, And how this ratio changes from 2019 to 2020 (show results for both years)\r\n"
   ],
   "metadata": {}
  },
  {
   "cell_type": "code",
   "execution_count": null,
   "source": [
    "query1 = '''\r\n",
    "            \r\n",
    "         '''\r\n",
    "display(queryResult(query1))"
   ],
   "outputs": [],
   "metadata": {}
  },
  {
   "cell_type": "markdown",
   "source": [
    "\r\n",
    "8. What is the total of shipments for each category in the data?\r\n"
   ],
   "metadata": {}
  },
  {
   "cell_type": "code",
   "execution_count": null,
   "source": [
    "query1 = '''\r\n",
    "            \r\n",
    "         '''\r\n",
    "display(queryResult(query1))"
   ],
   "outputs": [],
   "metadata": {}
  },
  {
   "cell_type": "markdown",
   "source": [
    "\r\n",
    "9. What is the average of the first order of each customer?\r\n"
   ],
   "metadata": {}
  },
  {
   "cell_type": "code",
   "execution_count": null,
   "source": [
    "query1 = '''\r\n",
    "            \r\n",
    "         '''\r\n",
    "display(queryResult(query1))"
   ],
   "outputs": [],
   "metadata": {}
  },
  {
   "cell_type": "markdown",
   "source": [
    "\r\n",
    "10. Does the membership split equally between gender? Do we get the same result per different countries in the data? Check only for English speaking countries (US, CA and EN)\r\n"
   ],
   "metadata": {}
  },
  {
   "cell_type": "code",
   "execution_count": null,
   "source": [
    "query1 = '''\r\n",
    "            \r\n",
    "         '''\r\n",
    "display(queryResult(query1))"
   ],
   "outputs": [],
   "metadata": {}
  },
  {
   "cell_type": "markdown",
   "source": [
    "\r\n",
    "11. What is the most successful campaign in terms of registrations? And what is the most successful campaign in terms of total revenue brought in?\r\n"
   ],
   "metadata": {}
  },
  {
   "cell_type": "code",
   "execution_count": null,
   "source": [
    "query1 = '''\r\n",
    "            \r\n",
    "         '''\r\n",
    "display(queryResult(query1))"
   ],
   "outputs": [],
   "metadata": {}
  }
 ],
 "metadata": {
  "orig_nbformat": 4,
  "language_info": {
   "name": "python",
   "version": "3.8.8",
   "mimetype": "text/x-python",
   "codemirror_mode": {
    "name": "ipython",
    "version": 3
   },
   "pygments_lexer": "ipython3",
   "nbconvert_exporter": "python",
   "file_extension": ".py"
  },
  "kernelspec": {
   "name": "python3",
   "display_name": "Python 3.8.8 64-bit ('base': conda)"
  },
  "interpreter": {
   "hash": "b1f289718d186d539b5ac9a53f79041c68ee8d2b6e439df5b3b4d5fd44538197"
  }
 },
 "nbformat": 4,
 "nbformat_minor": 2
}