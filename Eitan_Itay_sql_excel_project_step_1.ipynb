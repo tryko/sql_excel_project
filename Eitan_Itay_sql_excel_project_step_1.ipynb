{
 "cells": [
  {
   "cell_type": "markdown",
   "source": [
    "In this project you are trying out for an online marketplace company. The evaluation cover 3 important aspects of the daily job there that you need to know in order to get the position. \r\n",
    "\r\n",
    "The name of the database you will be working with is: data-analyst-web-store\r\n",
    "\r\n",
    "\r\n",
    "\r\n",
    "Step 1:\r\n",
    "\r\n",
    "Queries to know the data:\r\n",
    "\r\n",
    "1. How many customers are there and what is the gender ratio?\r\n",
    "\r\n",
    "2. How many items are there? Do you see any phenomena? (notice that item_id can be different)\r\n",
    "\r\n",
    "3. What is the total amount of orders?\r\n",
    "\r\n",
    "4. How many users were registered in July – December 2019 on the YouTube campaign?\r\n",
    "\r\n",
    "5. How many users from the US bought the book Rich Dad? What is their share out of everyone who bought this book? And what is their share out of all US sales?\r\n",
    "\r\n",
    "6. What is the most ordered item by quantity and what is the item with the highest total revenue? \r\n",
    "\r\n",
    "7. What is the share of total revenue, orders and users registration for each country, And how this ratio changes from 2019 to 2020 (show results for both years)\r\n",
    "\r\n",
    "8. What is the total of shipments for each category in the data?\r\n",
    "\r\n",
    "9. What is the average of the first order of each customer?\r\n",
    "\r\n",
    "10. Does the membership split equally between gender? Do we get the same result per different countries in the data? Check only for English speaking countries (US, CA and EN)\r\n",
    "\r\n",
    "11. What is the most successful campaign in terms of registrations? And what is the most successful campaign in terms of total revenue brought in?\r\n",
    "Step 2:\r\n",
    "\r\n",
    "1. Create a flat table per each order (flat – for every order bring every relevant information). For example: users registration, country, category etc. Save it to csv or excel file. PLEASE  validate the data.\r\n",
    "\r\n",
    "2. Read the extra text file that can be find here to your current excel"
   ],
   "metadata": {}
  },
  {
   "cell_type": "markdown",
   "source": [],
   "metadata": {}
  },
  {
   "cell_type": "markdown",
   "source": [],
   "metadata": {}
  },
  {
   "cell_type": "code",
   "execution_count": null,
   "source": [
    "db_config = {'user': 'practicum_student',         # username             \r\n",
    "                      'pwd': 's65BlTKV3faNIGhmvJVzOqhs', # password             \r\n",
    "                      'host': 'rc1b-wcoijxj3yxfsf3fs.mdb.yandexcloud.net',       #host URL      \r\n",
    "                      'port': 6432,              # connection port             \r\n",
    "                      'db': 'data-analyst-web-store '}          # the name of the database"
   ],
   "outputs": [],
   "metadata": {}
  },
  {
   "cell_type": "markdown",
   "source": [],
   "metadata": {}
  }
 ],
 "metadata": {
  "orig_nbformat": 4,
  "language_info": {
   "name": "python",
   "version": "3.8.8"
  },
  "kernelspec": {
   "name": "python3",
   "display_name": "Python 3.8.8 64-bit ('base': conda)"
  },
  "interpreter": {
   "hash": "b1f289718d186d539b5ac9a53f79041c68ee8d2b6e439df5b3b4d5fd44538197"
  }
 },
 "nbformat": 4,
 "nbformat_minor": 2
}