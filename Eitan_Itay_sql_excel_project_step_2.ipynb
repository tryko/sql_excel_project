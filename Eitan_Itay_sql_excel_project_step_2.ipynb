{
 "cells": [
  {
   "cell_type": "markdown",
   "source": [
    "Step 2:\r\n",
    "\r\n",
    "1. Create a flat table per each order (flat – for every order bring every relevant information). For example: users registration, country, category etc. Save it to csv or excel file. PLEASE  validate the data.\r\n",
    "\r\n",
    "2. Read the extra text file that can be find here to your current excel"
   ],
   "metadata": {}
  },
  {
   "cell_type": "markdown",
   "source": [],
   "metadata": {}
  }
 ],
 "metadata": {
  "orig_nbformat": 4,
  "language_info": {
   "name": "python"
  }
 },
 "nbformat": 4,
 "nbformat_minor": 2
}