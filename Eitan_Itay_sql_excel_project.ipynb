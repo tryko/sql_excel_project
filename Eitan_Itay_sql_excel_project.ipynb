{
 "cells": [
  {
   "cell_type": "markdown",
   "source": [
    "In this project you are trying out for an online marketplace company. The evaluation cover 3 important aspects of the daily job there that you need to know in order to get the position. \r\n",
    "\r\n",
    "The name of the database you will be working with is: data-analyst-web-store\r\n",
    "\r\n",
    "\r\n",
    "\r\n",
    "Step 1:\r\n",
    "\r\n",
    "Queries to know the data:\r\n",
    "\r\n",
    "1. How many customers are there and what is the gender ratio?\r\n",
    "\r\n",
    "2. How many items are there? Do you see any phenomena? (notice that item_id can be different)\r\n",
    "\r\n",
    "3. What is the total amount of orders?\r\n",
    "\r\n",
    "4. How many users were registered in July – December 2019 on the YouTube campaign?\r\n",
    "\r\n",
    "5. How many users from the US bought the book Rich Dad? What is their share out of everyone who bought this book? And what is their share out of all US sales?\r\n",
    "\r\n",
    "6. What is the most ordered item by quantity and what is the item with the highest total revenue? \r\n",
    "\r\n",
    "7. What is the share of total revenue, orders and users registration for each country, And how this ratio changes from 2019 to 2020 (show results for both years)\r\n",
    "\r\n",
    "8. What is the total of shipments for each category in the data?\r\n",
    "\r\n",
    "9. What is the average of the first order of each customer?\r\n",
    "\r\n",
    "10. Does the membership split equally between gender? Do we get the same result per different countries in the data? Check only for English speaking countries (US, CA and EN)\r\n",
    "\r\n",
    "11. What is the most successful campaign in terms of registrations? And what is the most successful campaign in terms of total revenue brought in?\r\n",
    "Step 2:\r\n",
    "\r\n",
    "1. Create a flat table per each order (flat – for every order bring every relevant information). For example: users registration, country, category etc. Save it to csv or excel file. PLEASE  validate the data.\r\n",
    "\r\n",
    "2. Read the extra text file that can be find here to your current excel"
   ],
   "metadata": {}
  },
  {
   "cell_type": "markdown",
   "source": [
    "Step 2:\r\n",
    "\r\n",
    "1. Create a flat table per each order (flat – for every order bring every relevant information). For example: users registration, country, category etc. Save it to csv or excel file. PLEASE  validate the data.\r\n",
    "\r\n",
    "2. Read the extra text file that can be find here to your current excel"
   ],
   "metadata": {}
  },
  {
   "cell_type": "markdown",
   "source": [
    "Step 3:\r\n",
    "\r\n",
    "Pivot Tables\r\n",
    "\r\n",
    "    Create a Pivot table per each country. Show the number of items sold.\r\n",
    "\r\n",
    "    Show the same metric as percentage out of total\r\n",
    "\r\n",
    "    Show this data only for English speaking buyers\r\n",
    "\r\n",
    "    Show this result only for Facebook campaigns\r\n",
    "\r\n",
    "*Create a new table and add there only the relevant info for every order in the A/B test area\r\n",
    "\r\n",
    "    In the new file you have cost per customer for each campaign and use excel functions to get total cost for each campaign.\r\n",
    "\r\n",
    "    Create 4 different charts of these types:\r\n",
    "\r\n",
    "    Bar\r\n",
    "\r\n",
    "    Line plot\r\n",
    "\r\n",
    "    Scatter\r\n",
    "\r\n",
    "    Pie\r\n",
    "\r\n",
    "Please think what is the best way to represent these 4 graphs in the data, at least 1 of them with a dual y-axis. Please make sure that your labels and legends are correct and make sense (e.g. percentage will be like 78.19% and not 0.7819 and make sure each axis have a proper name)  \r\n",
    "\r\n",
    "    Please check that there are no duplicates values if there are mark them in orange\r\n",
    "\r\n",
    "    In a separate sheet choose a specific country or category and sort the data by year then by quarter and lastly by date (you will have to create an additional column for this task).\r\n",
    "\r\n",
    "    Choose a country or campaign and use conditional formatting to color the highest order in your preferred color\r\n",
    "\r\n",
    "    Create a new key that includes the name of the item and the country and check for the new key the highest sold item.\r\n",
    "\r\n",
    "    Pick a test that you like and choose whether the users in B had better results then the users in A for the company\r\n",
    "\r\n",
    "    If you have other methods or metrics that you would like to use feel free to use them here!"
   ],
   "metadata": {}
  },
  {
   "cell_type": "markdown",
   "source": [
    "Step 4:\r\n",
    "\r\n",
    "Presentation - \r\n",
    "\r\n",
    "Prepare a presentation with up to 10 slides that will summarize your findings. Please have intro, insights and suggestions"
   ],
   "metadata": {}
  },
  {
   "cell_type": "markdown",
   "source": [
    "Here are the credentials to connect to the database:\r\n",
    "\r\n",
    "db_config = {'user': 'practicum_student',         # username             \r\n",
    "                      'pwd': 's65BlTKV3faNIGhmvJVzOqhs', # password             \r\n",
    "                      'host': 'rc1b-wcoijxj3yxfsf3fs.mdb.yandexcloud.net',       #host URL      \r\n",
    "                      'port': 6432,              # connection port             \r\n",
    "                      'db': 'data-analyst-web-store '}          # the name of the database"
   ],
   "metadata": {}
  },
  {
   "cell_type": "markdown",
   "source": [],
   "metadata": {}
  }
 ],
 "metadata": {
  "orig_nbformat": 4,
  "language_info": {
   "name": "python"
  }
 },
 "nbformat": 4,
 "nbformat_minor": 2
}