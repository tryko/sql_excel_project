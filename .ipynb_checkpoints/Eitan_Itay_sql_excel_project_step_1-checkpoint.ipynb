{
 "cells": [
  {
   "cell_type": "markdown",
   "metadata": {},
   "source": [
    "In this project you are trying out for an online marketplace company. The evaluation cover 3 important aspects of the daily job there that you need to know in order to get the position. \n",
    "\n",
    "The name of the database you will be working with is: data-analyst-web-store\n",
    "\n",
    "\n",
    "\n",
    "Step 1:\n",
    "\n",
    "Queries to know the data:\n",
    "\n",
    "1. How many customers are there and what is the gender ratio?\n",
    "\n",
    "2. How many items are there? Do you see any phenomena? (notice that item_id can be different)\n",
    "\n",
    "3. What is the total amount of orders?\n",
    "\n",
    "4. How many users were registered in July – December 2019 on the YouTube campaign?\n",
    "\n",
    "5. How many users from the US bought the book Rich Dad? What is their share out of everyone who bought this book? And what is their share out of all US sales?\n",
    "\n",
    "6. What is the most ordered item by quantity and what is the item with the highest total revenue? \n",
    "\n",
    "7. What is the share of total revenue, orders and users registration for each country, And how this ratio changes from 2019 to 2020 (show results for both years)\n",
    "\n",
    "8. What is the total of shipments for each category in the data?\n",
    "\n",
    "9. What is the average of the first order of each customer?\n",
    "\n",
    "10. Does the membership split equally between gender? Do we get the same result per different countries in the data? Check only for English speaking countries (US, CA and EN)\n",
    "\n",
    "11. What is the most successful campaign in terms of registrations? And what is the most successful campaign in terms of total revenue brought in?\n",
    "Step 2:\n",
    "\n",
    "1. Create a flat table per each order (flat – for every order bring every relevant information). For example: users registration, country, category etc. Save it to csv or excel file. PLEASE  validate the data.\n",
    "\n",
    "2. Read the extra text file that can be find here to your current excel"
   ]
  },
  {
   "cell_type": "code",
   "execution_count": 2,
   "metadata": {},
   "outputs": [],
   "source": [
    "import pandas as pd\n",
    "from sqlalchemy import create_engine\n",
    "import psycopg2"
   ]
  },
  {
   "cell_type": "code",
   "execution_count": 3,
   "metadata": {},
   "outputs": [],
   "source": [
    "db_config = {'user': 'practicum_student',         # username             \n",
    "                      'pwd': 's65BlTKV3faNIGhmvJVzOqhs', # password             \n",
    "                      'host': 'rc1b-wcoijxj3yxfsf3fs.mdb.yandexcloud.net',       #host URL      \n",
    "                      'port': 6432,              # connection port             \n",
    "                      'db': 'data-analyst-web-store'}          # the name of the database\n",
    "\n",
    "connection_string = 'postgresql://{}:{}@{}:{}/{}'.format(db_config['user'],\n",
    "                                                                     db_config['pwd'],\n",
    "                                                                       db_config['host'],\n",
    "                                                                       db_config['port'],\n",
    "                                                                       db_config['db'])\n",
    "\n",
    "engine = create_engine(connection_string, connect_args={'sslmode':'require'})"
   ]
  },
  {
   "cell_type": "code",
   "execution_count": 4,
   "metadata": {},
   "outputs": [],
   "source": [
    "def queryResult(q):\n",
    "    return pd.io.sql.read_sql(q, con = engine)"
   ]
  },
  {
   "cell_type": "code",
   "execution_count": 5,
   "metadata": {},
   "outputs": [
    {
     "data": {
      "text/html": [
       "<div>\n",
       "<style scoped>\n",
       "    .dataframe tbody tr th:only-of-type {\n",
       "        vertical-align: middle;\n",
       "    }\n",
       "\n",
       "    .dataframe tbody tr th {\n",
       "        vertical-align: top;\n",
       "    }\n",
       "\n",
       "    .dataframe thead th {\n",
       "        text-align: right;\n",
       "    }\n",
       "</style>\n",
       "<table border=\"1\" class=\"dataframe\">\n",
       "  <thead>\n",
       "    <tr style=\"text-align: right;\">\n",
       "      <th></th>\n",
       "      <th>gender</th>\n",
       "      <th>count</th>\n",
       "    </tr>\n",
       "  </thead>\n",
       "  <tbody>\n",
       "    <tr>\n",
       "      <th>0</th>\n",
       "      <td>Female</td>\n",
       "      <td>241</td>\n",
       "    </tr>\n",
       "    <tr>\n",
       "      <th>1</th>\n",
       "      <td>Male</td>\n",
       "      <td>218</td>\n",
       "    </tr>\n",
       "  </tbody>\n",
       "</table>\n",
       "</div>"
      ],
      "text/plain": [
       "   gender  count\n",
       "0  Female    241\n",
       "1    Male    218"
      ]
     },
     "metadata": {},
     "output_type": "display_data"
    }
   ],
   "source": [
    "query1 = '''\n",
    "            SELECT gender,COUNT(DISTINCT customer_id)\n",
    "            FROM customer_info\n",
    "            GROUP BY gender\n",
    "         '''\n",
    "display(queryResult(query1))"
   ]
  },
  {
   "cell_type": "code",
   "execution_count": null,
   "metadata": {},
   "outputs": [],
   "source": [
    "query2 ='''\n",
    "\n",
    "        '''"
   ]
  }
 ],
 "metadata": {
  "interpreter": {
   "hash": "b1f289718d186d539b5ac9a53f79041c68ee8d2b6e439df5b3b4d5fd44538197"
  },
  "kernelspec": {
   "display_name": "Python 3 (ipykernel)",
   "language": "python",
   "name": "python3"
  },
  "language_info": {
   "codemirror_mode": {
    "name": "ipython",
    "version": 3
   },
   "file_extension": ".py",
   "mimetype": "text/x-python",
   "name": "python",
   "nbconvert_exporter": "python",
   "pygments_lexer": "ipython3",
   "version": "3.9.6"
  }
 },
 "nbformat": 4,
 "nbformat_minor": 2
}
